{
 "cells": [
  {
   "cell_type": "code",
   "execution_count": 15,
   "id": "c85fdc5b",
   "metadata": {},
   "outputs": [],
   "source": [
    "from scipy.spatial.distance import euclidean\n",
    "import numpy as np\n",
    "from raise_utils.data import DataLoader\n",
    "from raise_utils.hooks import Hook\n",
    "from matplotlib import pyplot as plt"
   ]
  },
  {
   "cell_type": "code",
   "execution_count": 11,
   "id": "5afec9d8",
   "metadata": {},
   "outputs": [],
   "source": [
    "def get_distances(x, y):\n",
    "    \"\"\"\n",
    "    Get distances between points in each class and between classes.\n",
    "    \"\"\"\n",
    "    class_1 = np.where(y == 0)[0]\n",
    "    class_2 = np.where(y == 1)[0]\n",
    "    \n",
    "    # Find the distances between points in class 1\n",
    "    distances_class_1 = []\n",
    "    for i in range(len(x[class_1])):\n",
    "        for j in range(i+1, len(x[class_1])):\n",
    "            distance = euclidean(x[class_1][i], x[class_1][j])\n",
    "            distances_class_1.append(distance)\n",
    "\n",
    "    # Find the distances between points in class 2\n",
    "    distances_class_2 = []\n",
    "    for i in range(len(x[class_2])):\n",
    "        for j in range(i+1, len(x[class_2])):\n",
    "            distance = euclidean(x[class_2][i], x[class_2][j])\n",
    "            distances_class_2.append(distance)\n",
    "\n",
    "    # Find the distances between points in different classes\n",
    "    distances_between_classes = []\n",
    "    for i in range(len(x[class_1])):\n",
    "        for j in range(len(x[class_2])):\n",
    "            distance = euclidean(x[class_1][i], x[class_2][j])\n",
    "            distances_between_classes.append(distance)\n",
    "    \n",
    "    return distances_class_1, distances_class_2, distances_between_classes"
   ]
  },
  {
   "cell_type": "code",
   "execution_count": 3,
   "id": "92534c4b",
   "metadata": {},
   "outputs": [],
   "source": [
    "base_path = './DODGE Data/defect/'"
   ]
  },
  {
   "cell_type": "code",
   "execution_count": 6,
   "id": "73f82b01",
   "metadata": {},
   "outputs": [],
   "source": [
    "def get_data(name: str):\n",
    "    # For the Wang et al. experiments\n",
    "    file_dic_wang = {\"ivy1\":     [\"ivy-1.4.csv\", \"ivy-2.0.csv\"],\n",
    "                 \"lucene1\":  [\"lucene-2.0.csv\", \"lucene-2.2.csv\"],\n",
    "                 \"lucene2\": [\"lucene-2.2.csv\", \"lucene-2.4.csv\"],\n",
    "                 \"poi1\":     [\"poi-1.5.csv\", \"poi-2.5.csv\"],\n",
    "                 \"poi2\": [\"poi-2.5.csv\", \"poi-3.0.csv\"],\n",
    "                 \"synapse1\": [\"synapse-1.0.csv\", \"synapse-1.1.csv\"],\n",
    "                 \"synapse2\": [\"synapse-1.1.csv\", \"synapse-1.2.csv\"],\n",
    "                 \"camel1\": [\"camel-1.2.csv\", \"camel-1.4.csv\"],\n",
    "                 \"camel2\": [\"camel-1.4.csv\", \"camel-1.6.csv\"],\n",
    "                 \"xerces1\": [\"xerces-1.2.csv\", \"xerces-1.3.csv\"],\n",
    "                 \"jedit1\": [\"jedit-3.2.csv\", \"jedit-4.0.csv\"],\n",
    "                 \"jedit2\": [\"jedit-4.0.csv\", \"jedit-4.1.csv\"],\n",
    "                 \"log4j1\": [\"log4j-1.0.csv\", \"log4j-1.1.csv\"],\n",
    "                 \"xalan1\": [\"xalan-2.4.csv\", \"xalan-2.5.csv\"]\n",
    "                 }\n",
    "    \n",
    "    def _binarize(x, y): y[y > 1] = 1\n",
    "    dataset = DataLoader.from_files(\n",
    "        base_path=base_path, files=file_dic_wang[name], hooks=[Hook('binarize', _binarize)])\n",
    "    \n",
    "    return dataset"
   ]
  },
  {
   "cell_type": "code",
   "execution_count": 34,
   "id": "1a72ab9b",
   "metadata": {},
   "outputs": [
    {
     "name": "stderr",
     "output_type": "stream",
     "text": [
      "/tmp/ipykernel_3257/3552890647.py:19: SettingWithCopyWarning: \n",
      "A value is trying to be set on a copy of a slice from a DataFrame.\n",
      "Try using .loc[row_indexer,col_indexer] = value instead\n",
      "\n",
      "See the caveats in the documentation: https://pandas.pydata.org/pandas-docs/stable/user_guide/indexing.html#returning-a-view-versus-a-copy\n",
      "  def _binarize(x, y): y[y > 1] = 1\n",
      "/tmp/ipykernel_3257/3552890647.py:19: SettingWithCopyWarning: \n",
      "A value is trying to be set on a copy of a slice from a DataFrame\n",
      "\n",
      "See the caveats in the documentation: https://pandas.pydata.org/pandas-docs/stable/user_guide/indexing.html#returning-a-view-versus-a-copy\n",
      "  def _binarize(x, y): y[y > 1] = 1\n"
     ]
    }
   ],
   "source": [
    "data = get_data('camel2')\n",
    "_, _, d = get_distances(np.array(data.x_train), np.array(data.y_train))"
   ]
  },
  {
   "cell_type": "code",
   "execution_count": 35,
   "id": "fd5d5a38",
   "metadata": {},
   "outputs": [
    {
     "data": {
      "text/plain": [
       "Text(0.5, 1.0, 'camel2')"
      ]
     },
     "execution_count": 35,
     "metadata": {},
     "output_type": "execute_result"
    },
    {
     "data": {
      "image/png": "[encoded data removed]",
      "text/plain": [
       "<Figure size 640x480 with 1 Axes>"
      ]
     },
     "metadata": {},
     "output_type": "display_data"
    }
   ],
   "source": [
    "# Remove the max outlier\n",
    "# camel2 has high pf (1.0)\n",
    "d = np.array(d)\n",
    "d_thresh = d[np.where(d < 20)[0]]\n",
    "\n",
    "plt.hist(d_thresh)\n",
    "plt.title('camel2')"
   ]
  },
  {
   "cell_type": "code",
   "execution_count": 36,
   "id": "ae7c986c",
   "metadata": {},
   "outputs": [
    {
     "name": "stderr",
     "output_type": "stream",
     "text": [
      "/tmp/ipykernel_3257/3552890647.py:19: SettingWithCopyWarning: \n",
      "A value is trying to be set on a copy of a slice from a DataFrame.\n",
      "Try using .loc[row_indexer,col_indexer] = value instead\n",
      "\n",
      "See the caveats in the documentation: https://pandas.pydata.org/pandas-docs/stable/user_guide/indexing.html#returning-a-view-versus-a-copy\n",
      "  def _binarize(x, y): y[y > 1] = 1\n",
      "/tmp/ipykernel_3257/3552890647.py:19: SettingWithCopyWarning: \n",
      "A value is trying to be set on a copy of a slice from a DataFrame\n",
      "\n",
      "See the caveats in the documentation: https://pandas.pydata.org/pandas-docs/stable/user_guide/indexing.html#returning-a-view-versus-a-copy\n",
      "  def _binarize(x, y): y[y > 1] = 1\n"
     ]
    }
   ],
   "source": [
    "data = get_data('lucene1')\n",
    "_, _, d = get_distances(np.array(data.x_train), np.array(data.y_train))"
   ]
  },
  {
   "cell_type": "code",
   "execution_count": 37,
   "id": "42d27ff2",
   "metadata": {},
   "outputs": [
    {
     "data": {
      "text/plain": [
       "Text(0.5, 1.0, 'lucene1')"
      ]
     },
     "execution_count": 37,
     "metadata": {},
     "output_type": "execute_result"
    },
    {
     "data": {
      "image/png": "[encoded data removed]",
      "text/plain": [
       "<Figure size 640x480 with 1 Axes>"
      ]
     },
     "metadata": {},
     "output_type": "display_data"
    }
   ],
   "source": [
    "# Remove the max outlier\n",
    "# lucene1 does well\n",
    "d = np.array(d)\n",
    "d_thresh = d[np.where(d < 20)[0]]\n",
    "\n",
    "plt.hist(d_thresh)\n",
    "plt.title('lucene1')"
   ]
  },
  {
   "cell_type": "code",
   "execution_count": null,
   "id": "be4c1364",
   "metadata": {},
   "outputs": [],
   "source": []
  }
 ],
 "metadata": {
  "kernelspec": {
   "display_name": "Python 3 (ipykernel)",
   "language": "python",
   "name": "python3"
  },
  "language_info": {
   "codemirror_mode": {
    "name": "ipython",
    "version": 3
   },
   "file_extension": ".py",
   "mimetype": "text/x-python",
   "name": "python",
   "nbconvert_exporter": "python",
   "pygments_lexer": "ipython3",
   "version": "3.9.6"
  }
 },
 "nbformat": 4,
 "nbformat_minor": 5
}
